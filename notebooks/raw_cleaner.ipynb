{
 "cells": [
  {
   "cell_type": "code",
   "execution_count": 715,
   "id": "331dcd1e-8bf4-40d0-b2d1-26f86025239a",
   "metadata": {},
   "outputs": [],
   "source": [
    "import math"
   ]
  },
  {
   "cell_type": "code",
   "execution_count": null,
   "id": "2694145a-d9f9-4a9c-bb9a-6b75f9a2c906",
   "metadata": {},
   "outputs": [],
   "source": [
    "sample_mapping = {\n",
    "    \"s1\": \"01\",\n",
    "    \"s2\": \"02\",\n",
    "    \"s3\": \"03\",\n",
    "    \"s4\": \"04\",\n",
    "    \"s5\": \"05\",\n",
    "    \"s6\": \"06\",\n",
    "    \"s7\": \"07\",\n",
    "    \"s8\": \"08\",\n",
    "    \"s9\": \"09\",\n",
    "    \"s10\": \"10\",\n",
    "    \"s11\": \"11\",\n",
    "    \"s12\", \"12\",\n",
    "}"
   ]
  },
  {
   "cell_type": "code",
   "execution_count": null,
   "id": "bb1ef333",
   "metadata": {},
   "outputs": [],
   "source": [
    "sampling_round = 8\n",
    "sample = 'xy'\n",
    "sample_id = sample_mapping[sample]\n",
    "file_name = \"\"\n",
    "input_file = f''\n",
    "session_type = \"spk\" if \"spk\" in input_file else \"img\"\n",
    "output_file = f'/Project/data/cleaned_data/raw/{sample_id}_{session_type}_{int(math.ceil(sampling_round / 2))}.txt'"
   ]
  },
  {
   "cell_type": "code",
   "execution_count": 718,
   "id": "6ede7a9a",
   "metadata": {},
   "outputs": [],
   "source": [
    "def remove_columns(input_file):\n",
    "    columns_to_remove = ['CH9', 'CH19', 'CH27', 'CH30', 'CH61', 'ECG', 'VEP', 'EMG2']\n",
    "    with open(input_file, 'r') as file:\n",
    "        lines = file.readlines()\n",
    "    \n",
    "    column_names = lines[0].split()\n",
    "    modified_lines = []\n",
    "    counter = 0\n",
    "    for line in lines:\n",
    "        counter += 1\n",
    "        columns = line.split()\n",
    "        modified_columns = [col for i, col in enumerate(columns) if column_names[i] not in columns_to_remove]\n",
    "\n",
    "        if counter % 10000 == 0:\n",
    "            print(len(modified_columns), len(columns))\n",
    "\n",
    "        modified_lines.append(modified_columns)\n",
    "    return modified_lines"
   ]
  },
  {
   "cell_type": "code",
   "execution_count": 719,
   "id": "e9340210",
   "metadata": {},
   "outputs": [
    {
     "name": "stdout",
     "output_type": "stream",
     "text": [
      "57 65\n",
      "57 65\n",
      "57 65\n",
      "57 65\n",
      "57 65\n",
      "57 65\n",
      "57 65\n",
      "57 65\n",
      "57 65\n",
      "57 65\n",
      "57 65\n",
      "57 65\n",
      "57 65\n",
      "57 65\n",
      "57 65\n",
      "57 65\n",
      "57 65\n",
      "57 65\n",
      "57 65\n",
      "57 65\n",
      "57 65\n",
      "57 65\n",
      "57 65\n",
      "57 65\n",
      "57 65\n",
      "57 65\n",
      "57 65\n",
      "57 65\n",
      "57 65\n",
      "57 65\n",
      "57 65\n",
      "57 65\n",
      "57 65\n",
      "57 65\n",
      "57 65\n",
      "57 65\n",
      "57 65\n",
      "57 65\n",
      "57 65\n",
      "57 65\n",
      "57 65\n",
      "57 65\n",
      "57 65\n",
      "57 65\n",
      "57 65\n",
      "57 65\n",
      "57 65\n",
      "57 65\n",
      "57 65\n",
      "57 65\n",
      "57 65\n",
      "57 65\n"
     ]
    }
   ],
   "source": [
    "modified_lines = remove_columns(input_file)"
   ]
  },
  {
   "cell_type": "code",
   "execution_count": 720,
   "id": "a549795c",
   "metadata": {},
   "outputs": [],
   "source": [
    "correct_columns = ['F3',\n",
    " 'F4',\n",
    " 'P3',\n",
    " 'AF3',\n",
    " 'AFZ',\n",
    " 'AF4',\n",
    " 'P4',\n",
    " 'F7',\n",
    " 'F5',\n",
    " 'F1',\n",
    " 'FZ',\n",
    " 'F2',\n",
    " 'F6',\n",
    " 'F8',\n",
    " 'FT7',\n",
    " 'FC5',\n",
    " 'FC3',\n",
    " 'FC1',\n",
    " 'FCZ',\n",
    " 'FC2',\n",
    " 'FC4',\n",
    " 'FC6',\n",
    " 'FT8',\n",
    " 'T7',\n",
    " 'C5',\n",
    " 'C3',\n",
    " 'C1',\n",
    " 'CZ',\n",
    " 'C2',\n",
    " 'C4',\n",
    " 'C6',\n",
    " 'T8',\n",
    " 'TP7',\n",
    " 'CP5',\n",
    " 'CP3',\n",
    " 'CP1',\n",
    " 'CPZ',\n",
    " 'CP2',\n",
    " 'CP4',\n",
    " 'CP6',\n",
    " 'TP8',\n",
    " 'P7',\n",
    " 'P5',\n",
    " 'P1',\n",
    " 'PZ',\n",
    " 'P2',\n",
    " 'P6',\n",
    " 'P8',\n",
    " 'PO7',\n",
    " 'PO3',\n",
    " 'POZ',\n",
    " 'PO4',\n",
    " 'PO8',\n",
    " 'O1',\n",
    " 'OZ',\n",
    " 'O2',\n",
    " 'MARK']"
   ]
  },
  {
   "cell_type": "code",
   "execution_count": 721,
   "id": "f2d1f148",
   "metadata": {},
   "outputs": [
    {
     "data": {
      "text/plain": [
       "['F3',\n",
       " 'F4',\n",
       " 'P3',\n",
       " 'AF3',\n",
       " 'AFZ',\n",
       " 'AF4',\n",
       " 'P4',\n",
       " 'F7',\n",
       " 'F5',\n",
       " 'F1',\n",
       " 'FZ',\n",
       " 'F2',\n",
       " 'F6',\n",
       " 'F8',\n",
       " 'FT7',\n",
       " 'FC5',\n",
       " 'FC3',\n",
       " 'FC1',\n",
       " 'FCZ',\n",
       " 'FC2',\n",
       " 'FC4',\n",
       " 'FC6',\n",
       " 'FT8',\n",
       " 'T7',\n",
       " 'C5',\n",
       " 'C3',\n",
       " 'C1',\n",
       " 'CZ',\n",
       " 'C2',\n",
       " 'C4',\n",
       " 'C6',\n",
       " 'T8',\n",
       " 'TP7',\n",
       " 'CP5',\n",
       " 'CP3',\n",
       " 'CP1',\n",
       " 'CPZ',\n",
       " 'CP2',\n",
       " 'CP4',\n",
       " 'CP6',\n",
       " 'TP8',\n",
       " 'P7',\n",
       " 'P5',\n",
       " 'P1',\n",
       " 'PZ',\n",
       " 'P2',\n",
       " 'P6',\n",
       " 'P8',\n",
       " 'PO7',\n",
       " 'PO3',\n",
       " 'POZ',\n",
       " 'PO4',\n",
       " 'PO8',\n",
       " 'O1',\n",
       " 'OZ',\n",
       " 'O2',\n",
       " 'MARK']"
      ]
     },
     "execution_count": 721,
     "metadata": {},
     "output_type": "execute_result"
    }
   ],
   "source": [
    "modified_lines[0]"
   ]
  },
  {
   "cell_type": "code",
   "execution_count": 722,
   "id": "a90792f5",
   "metadata": {},
   "outputs": [],
   "source": [
    "assert correct_columns ==  modified_lines[0]"
   ]
  },
  {
   "cell_type": "code",
   "execution_count": 723,
   "id": "d8e445d3",
   "metadata": {},
   "outputs": [],
   "source": [
    "def print_triggers(lines):\n",
    "    counter = 0\n",
    "    triggers = []\n",
    "    for index, line in enumerate(lines):\n",
    "        if line[-1] != '0' and line[-1] != 'MARK':\n",
    "            # print(index, line[-1])\n",
    "            triggers.append((index, line[-1]))\n",
    "            counter += 1\n",
    "    print(f\"Total number of trigges: {counter}\")\n",
    "    print(triggers)\n",
    "    return triggers"
   ]
  },
  {
   "cell_type": "code",
   "execution_count": 724,
   "id": "ce9ebeb1",
   "metadata": {},
   "outputs": [],
   "source": [
    "def remove_trigger(lines, row_numbers):\n",
    "    for line_number, line in enumerate(lines):\n",
    "        if line_number in row_numbers:\n",
    "            line[-1] = '0'"
   ]
  },
  {
   "cell_type": "code",
   "execution_count": 725,
   "id": "d586a038-35c5-4ba4-9647-70f8e2f89f19",
   "metadata": {},
   "outputs": [
    {
     "name": "stdout",
     "output_type": "stream",
     "text": [
      "Total number of trigges: 0\n",
      "[]\n"
     ]
    }
   ],
   "source": [
    "triggers = print_triggers(modified_lines)"
   ]
  },
  {
   "cell_type": "code",
   "execution_count": 726,
   "id": "2f019148-4e0d-417c-8922-ee97f3c7bc26",
   "metadata": {},
   "outputs": [],
   "source": [
    "# TODO To be commented\n",
    "# 507967 - 225 * 2250\n",
    "\n",
    "# remove_trigger(modified_lines, [triggers[0][0], triggers[1][0], triggers[3][0], triggers[5][0]])\n",
    "# triggers = print_triggers(modified_lines)"
   ]
  },
  {
   "cell_type": "code",
   "execution_count": 727,
   "id": "7290bbc7-f2dd-4c3b-8057-96e6a39da7ec",
   "metadata": {},
   "outputs": [
    {
     "ename": "AssertionError",
     "evalue": "",
     "output_type": "error",
     "traceback": [
      "\u001b[1;31m---------------------------------------------------------------------------\u001b[0m",
      "\u001b[1;31mAssertionError\u001b[0m                            Traceback (most recent call last)",
      "Cell \u001b[1;32mIn [727], line 1\u001b[0m\n\u001b[1;32m----> 1\u001b[0m \u001b[38;5;28;01massert\u001b[39;00m \u001b[38;5;28mlen\u001b[39m(triggers) \u001b[38;5;241m==\u001b[39m \u001b[38;5;241m9\u001b[39m\n",
      "\u001b[1;31mAssertionError\u001b[0m: "
     ]
    }
   ],
   "source": [
    "assert len(triggers) == 9"
   ]
  },
  {
   "cell_type": "code",
   "execution_count": null,
   "id": "ad1714d0",
   "metadata": {},
   "outputs": [],
   "source": [
    "remove_trigger(modified_lines, [triggers[0][0], triggers[1][0], triggers[3][0], triggers[5][0], triggers[7][0]])\n",
    "triggers = print_triggers(modified_lines)"
   ]
  },
  {
   "cell_type": "code",
   "execution_count": null,
   "id": "a931a37e-48aa-4475-bec0-5dfc267abb22",
   "metadata": {},
   "outputs": [],
   "source": [
    "assert len(triggers) == 4"
   ]
  },
  {
   "cell_type": "code",
   "execution_count": null,
   "id": "8c3432c8",
   "metadata": {},
   "outputs": [],
   "source": [
    "import numpy as np\n",
    "\n",
    "def get_noise(trigger_time):\n",
    "    mean = 0\n",
    "    scale = 60\n",
    "    upper_bound = 100\n",
    "    lower_bound = -upper_bound\n",
    "\n",
    "    noise = np.random.normal(loc=mean, scale=scale, size=1)\n",
    "    noise = np.clip(noise, lower_bound, upper_bound)\n",
    "    return int(noise)\n",
    "\n",
    "def get_marks(lines):\n",
    "    counter = 0\n",
    "    for line in lines:\n",
    "        if line[-1] != '0':\n",
    "            counter += 1\n",
    "    return counter\n",
    "\n",
    "def add_triggers(lines, from_row, until_tow, trigger_time):\n",
    "    marks = get_marks(lines)\n",
    "    if marks >= 15:\n",
    "        raise Exception('Already modified')\n",
    "\n",
    "    new_triggers_indices = []\n",
    "    i = from_row\n",
    "    while True:\n",
    "        noise = get_noise(trigger_time)\n",
    "        i += trigger_time \n",
    "        if i + trigger_time > until_tow:\n",
    "            break\n",
    "        new_triggers_indices.append(i + noise)\n",
    "\n",
    "    for index in new_triggers_indices:\n",
    "        lines[index][-1] = '3'"
   ]
  },
  {
   "cell_type": "code",
   "execution_count": null,
   "id": "e5333335-7724-407c-a004-745abf050a52",
   "metadata": {},
   "outputs": [],
   "source": [
    "# 19214 + 223 * 2250 + 2250"
   ]
  },
  {
   "cell_type": "code",
   "execution_count": null,
   "id": "5e3188f0-376a-406f-a014-4990ea987b0b",
   "metadata": {},
   "outputs": [],
   "source": [
    "# TODO to be commented\n",
    "# add_triggers(lines=modified_lines, from_row=19214, until_tow=523214, trigger_time=2250)"
   ]
  },
  {
   "cell_type": "code",
   "execution_count": null,
   "id": "4529ea99",
   "metadata": {},
   "outputs": [],
   "source": [
    "add_triggers(lines=modified_lines, from_row=triggers[2][0], until_tow=triggers[3][0], trigger_time=2250)"
   ]
  },
  {
   "cell_type": "code",
   "execution_count": null,
   "id": "9b2d1eb2",
   "metadata": {},
   "outputs": [],
   "source": [
    "triggers = print_triggers(modified_lines)"
   ]
  },
  {
   "cell_type": "code",
   "execution_count": null,
   "id": "82c5c931",
   "metadata": {},
   "outputs": [],
   "source": [
    "def get_first_trigger_index(lines):\n",
    "    for index, line in enumerate(lines):\n",
    "        if line[-1] != '0' and line[-1] != 'MARK':\n",
    "            return index\n",
    "\n",
    "def get_last_trigger_index(lines):\n",
    "    for index, line in enumerate(lines[::-1]):\n",
    "        if line[-1] != '0' and line[-1] != 'MARK':\n",
    "            return len(lines) - index"
   ]
  },
  {
   "cell_type": "code",
   "execution_count": null,
   "id": "6e20ba4d",
   "metadata": {},
   "outputs": [],
   "source": [
    "def remove_lines_before_first_trigger_and_after_last_trigger(lines):\n",
    "    threshold = 500\n",
    "    first_index = get_first_trigger_index(lines)\n",
    "    del lines[1: first_index - threshold]\n",
    "    last_index = get_last_trigger_index(lines)\n",
    "    del lines[last_index + 1 + threshold: len(lines)]\n",
    "    return lines"
   ]
  },
  {
   "cell_type": "code",
   "execution_count": null,
   "id": "56e855d5",
   "metadata": {},
   "outputs": [],
   "source": [
    "modified_lines = remove_lines_before_first_trigger_and_after_last_trigger(modified_lines)"
   ]
  },
  {
   "cell_type": "code",
   "execution_count": null,
   "id": "7d3aa9a7",
   "metadata": {},
   "outputs": [],
   "source": [
    "triggers = print_triggers(modified_lines)\n"
   ]
  },
  {
   "cell_type": "code",
   "execution_count": null,
   "id": "73e77a70",
   "metadata": {},
   "outputs": [],
   "source": [
    "len(modified_lines)"
   ]
  },
  {
   "cell_type": "code",
   "execution_count": null,
   "id": "83c902ae",
   "metadata": {},
   "outputs": [],
   "source": [
    "assert 225 * 2250 < len(modified_lines)"
   ]
  },
  {
   "cell_type": "code",
   "execution_count": null,
   "id": "f49a2329",
   "metadata": {},
   "outputs": [],
   "source": [
    "assert len(triggers) == 226"
   ]
  },
  {
   "cell_type": "code",
   "execution_count": null,
   "id": "a3b664d4-7943-457c-a3ef-58edaa38120c",
   "metadata": {},
   "outputs": [],
   "source": [
    "assert correct_columns ==  modified_lines[0]"
   ]
  },
  {
   "cell_type": "code",
   "execution_count": null,
   "id": "c7827564",
   "metadata": {},
   "outputs": [],
   "source": [
    "def save_lines_to_file(lines, output_file):\n",
    "    with open(output_file, 'w') as file:\n",
    "        for line in lines:\n",
    "            file.write(' '.join(line) + '\\n')"
   ]
  },
  {
   "cell_type": "code",
   "execution_count": null,
   "id": "908378cd",
   "metadata": {},
   "outputs": [],
   "source": [
    "modified_lines_without_header = modified_lines[1:]\n",
    "save_lines_to_file(modified_lines_without_header, output_file)"
   ]
  },
  {
   "cell_type": "code",
   "execution_count": null,
   "id": "9ac8be15-2a49-40c7-bb70-ba1d3c490d51",
   "metadata": {},
   "outputs": [],
   "source": []
  }
 ],
 "metadata": {
  "kernelspec": {
   "display_name": "Python 3 (ipykernel)",
   "language": "python",
   "name": "python3"
  },
  "language_info": {
   "codemirror_mode": {
    "name": "ipython",
    "version": 3
   },
   "file_extension": ".py",
   "mimetype": "text/x-python",
   "name": "python",
   "nbconvert_exporter": "python",
   "pygments_lexer": "ipython3",
   "version": "3.10.2"
  }
 },
 "nbformat": 4,
 "nbformat_minor": 5
}
